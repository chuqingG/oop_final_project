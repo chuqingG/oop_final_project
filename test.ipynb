{
 "cells": [
  {
   "cell_type": "code",
   "execution_count": 1,
   "metadata": {},
   "outputs": [],
   "source": [
    "import numpy as np\n",
    "import pandas as pd\n",
    "from pandas import Series,DataFrame\n",
    "\n",
    "userpd = pd.read_csv(\"data/user.csv\")\n",
    "bookpd = pd.read_csv(\"data/book.csv\")"
   ]
  },
  {
   "cell_type": "code",
   "execution_count": 2,
   "metadata": {},
   "outputs": [
    {
     "data": {
      "text/html": [
       "<div>\n",
       "<style scoped>\n",
       "    .dataframe tbody tr th:only-of-type {\n",
       "        vertical-align: middle;\n",
       "    }\n",
       "\n",
       "    .dataframe tbody tr th {\n",
       "        vertical-align: top;\n",
       "    }\n",
       "\n",
       "    .dataframe thead th {\n",
       "        text-align: right;\n",
       "    }\n",
       "</style>\n",
       "<table border=\"1\" class=\"dataframe\">\n",
       "  <thead>\n",
       "    <tr style=\"text-align: right;\">\n",
       "      <th></th>\n",
       "      <th>UserID</th>\n",
       "      <th>Name</th>\n",
       "      <th>Type</th>\n",
       "      <th>PhoneNumber</th>\n",
       "      <th>CurrentBorrow</th>\n",
       "      <th>History</th>\n",
       "    </tr>\n",
       "  </thead>\n",
       "  <tbody>\n",
       "    <tr>\n",
       "      <th>0</th>\n",
       "      <td>2435219977</td>\n",
       "      <td>张三</td>\n",
       "      <td>normal</td>\n",
       "      <td>18212341234</td>\n",
       "      <td>NaN</td>\n",
       "      <td>NaN</td>\n",
       "    </tr>\n",
       "    <tr>\n",
       "      <th>1</th>\n",
       "      <td>2644622235</td>\n",
       "      <td>李四</td>\n",
       "      <td>vip</td>\n",
       "      <td>18312341234</td>\n",
       "      <td>NaN</td>\n",
       "      <td>NaN</td>\n",
       "    </tr>\n",
       "    <tr>\n",
       "      <th>2</th>\n",
       "      <td>2957920116</td>\n",
       "      <td>王五</td>\n",
       "      <td>normal</td>\n",
       "      <td>18412341234</td>\n",
       "      <td>NaN</td>\n",
       "      <td>NaN</td>\n",
       "    </tr>\n",
       "    <tr>\n",
       "      <th>3</th>\n",
       "      <td>3621320845</td>\n",
       "      <td>赵六</td>\n",
       "      <td>vip</td>\n",
       "      <td>18512341234</td>\n",
       "      <td>NaN</td>\n",
       "      <td>NaN</td>\n",
       "    </tr>\n",
       "  </tbody>\n",
       "</table>\n",
       "</div>"
      ],
      "text/plain": [
       "       UserID Name    Type  PhoneNumber  CurrentBorrow  History\n",
       "0  2435219977   张三  normal  18212341234            NaN      NaN\n",
       "1  2644622235   李四     vip  18312341234            NaN      NaN\n",
       "2  2957920116   王五  normal  18412341234            NaN      NaN\n",
       "3  3621320845   赵六     vip  18512341234            NaN      NaN"
      ]
     },
     "execution_count": 2,
     "metadata": {},
     "output_type": "execute_result"
    }
   ],
   "source": [
    "userpd"
   ]
  },
  {
   "cell_type": "code",
   "execution_count": 3,
   "metadata": {},
   "outputs": [
    {
     "data": {
      "text/html": [
       "<div>\n",
       "<style scoped>\n",
       "    .dataframe tbody tr th:only-of-type {\n",
       "        vertical-align: middle;\n",
       "    }\n",
       "\n",
       "    .dataframe tbody tr th {\n",
       "        vertical-align: top;\n",
       "    }\n",
       "\n",
       "    .dataframe thead th {\n",
       "        text-align: right;\n",
       "    }\n",
       "</style>\n",
       "<table border=\"1\" class=\"dataframe\">\n",
       "  <thead>\n",
       "    <tr style=\"text-align: right;\">\n",
       "      <th></th>\n",
       "      <th>BookID</th>\n",
       "      <th>Name</th>\n",
       "      <th>ISBN</th>\n",
       "      <th>Publisher</th>\n",
       "      <th>Date</th>\n",
       "      <th>Author</th>\n",
       "      <th>Tag</th>\n",
       "      <th>Stock</th>\n",
       "    </tr>\n",
       "  </thead>\n",
       "  <tbody>\n",
       "    <tr>\n",
       "      <th>0</th>\n",
       "      <td>2140729702</td>\n",
       "      <td>编译原理</td>\n",
       "      <td>5-78-6-59</td>\n",
       "      <td>科学出版社</td>\n",
       "      <td>1932-7-9</td>\n",
       "      <td>Amy</td>\n",
       "      <td>cs</td>\n",
       "      <td>2</td>\n",
       "    </tr>\n",
       "    <tr>\n",
       "      <th>1</th>\n",
       "      <td>2604127861</td>\n",
       "      <td>计算方法</td>\n",
       "      <td>2-40-80-26</td>\n",
       "      <td>科学出版社</td>\n",
       "      <td>1958-5-26</td>\n",
       "      <td>Bob</td>\n",
       "      <td>math</td>\n",
       "      <td>3</td>\n",
       "    </tr>\n",
       "    <tr>\n",
       "      <th>2</th>\n",
       "      <td>2252230784</td>\n",
       "      <td>算法基础</td>\n",
       "      <td>2-98-27-88</td>\n",
       "      <td>科学出版社</td>\n",
       "      <td>2006-1-29</td>\n",
       "      <td>Cindy</td>\n",
       "      <td>cs</td>\n",
       "      <td>4</td>\n",
       "    </tr>\n",
       "    <tr>\n",
       "      <th>3</th>\n",
       "      <td>3680731243</td>\n",
       "      <td>随机过程</td>\n",
       "      <td>9-37-80-17</td>\n",
       "      <td>科学出版社</td>\n",
       "      <td>1906-13-27</td>\n",
       "      <td>David</td>\n",
       "      <td>cs</td>\n",
       "      <td>5</td>\n",
       "    </tr>\n",
       "    <tr>\n",
       "      <th>4</th>\n",
       "      <td>3259332476</td>\n",
       "      <td>计算机网络</td>\n",
       "      <td>9-57-55-23</td>\n",
       "      <td>机械工业出版社</td>\n",
       "      <td>1983-12-27</td>\n",
       "      <td>Emily</td>\n",
       "      <td>cs</td>\n",
       "      <td>6</td>\n",
       "    </tr>\n",
       "  </tbody>\n",
       "</table>\n",
       "</div>"
      ],
      "text/plain": [
       "       BookID   Name        ISBN Publisher        Date Author   Tag  Stock\n",
       "0  2140729702   编译原理   5-78-6-59     科学出版社    1932-7-9    Amy    cs      2\n",
       "1  2604127861   计算方法  2-40-80-26     科学出版社   1958-5-26    Bob  math      3\n",
       "2  2252230784   算法基础  2-98-27-88     科学出版社   2006-1-29  Cindy    cs      4\n",
       "3  3680731243   随机过程  9-37-80-17     科学出版社  1906-13-27  David    cs      5\n",
       "4  3259332476  计算机网络  9-57-55-23   机械工业出版社  1983-12-27  Emily    cs      6"
      ]
     },
     "execution_count": 3,
     "metadata": {},
     "output_type": "execute_result"
    }
   ],
   "source": [
    "bookpd"
   ]
  },
  {
   "cell_type": "code",
   "execution_count": 4,
   "metadata": {},
   "outputs": [
    {
     "data": {
      "text/plain": [
       "'56789'"
      ]
     },
     "execution_count": 4,
     "metadata": {},
     "output_type": "execute_result"
    }
   ],
   "source": [
    "uid = \"123456789\"\n",
    "uid[-5:]"
   ]
  },
  {
   "cell_type": "code",
   "execution_count": 5,
   "metadata": {},
   "outputs": [],
   "source": [
    "bookpd.to_csv(\"data/testb.csv\",index=False,sep=',')"
   ]
  },
  {
   "cell_type": "code",
   "execution_count": 6,
   "metadata": {},
   "outputs": [
    {
     "data": {
      "text/html": [
       "<div>\n",
       "<style scoped>\n",
       "    .dataframe tbody tr th:only-of-type {\n",
       "        vertical-align: middle;\n",
       "    }\n",
       "\n",
       "    .dataframe tbody tr th {\n",
       "        vertical-align: top;\n",
       "    }\n",
       "\n",
       "    .dataframe thead th {\n",
       "        text-align: right;\n",
       "    }\n",
       "</style>\n",
       "<table border=\"1\" class=\"dataframe\">\n",
       "  <thead>\n",
       "    <tr style=\"text-align: right;\">\n",
       "      <th></th>\n",
       "      <th>BookID</th>\n",
       "      <th>Name</th>\n",
       "      <th>ISBN</th>\n",
       "      <th>Publisher</th>\n",
       "      <th>Date</th>\n",
       "      <th>Author</th>\n",
       "      <th>Tag</th>\n",
       "      <th>Stock</th>\n",
       "    </tr>\n",
       "  </thead>\n",
       "  <tbody>\n",
       "    <tr>\n",
       "      <th>1</th>\n",
       "      <td>2604127861</td>\n",
       "      <td>计算方法</td>\n",
       "      <td>2-40-80-26</td>\n",
       "      <td>科学出版社</td>\n",
       "      <td>1958-5-26</td>\n",
       "      <td>Bob</td>\n",
       "      <td>math</td>\n",
       "      <td>3</td>\n",
       "    </tr>\n",
       "  </tbody>\n",
       "</table>\n",
       "</div>"
      ],
      "text/plain": [
       "       BookID  Name        ISBN Publisher       Date Author   Tag  Stock\n",
       "1  2604127861  计算方法  2-40-80-26     科学出版社  1958-5-26    Bob  math      3"
      ]
     },
     "execution_count": 6,
     "metadata": {},
     "output_type": "execute_result"
    }
   ],
   "source": [
    "bookpd[bookpd.Name == \"计算方法\"]"
   ]
  },
  {
   "cell_type": "code",
   "execution_count": 7,
   "metadata": {},
   "outputs": [
    {
     "data": {
      "text/html": [
       "<div>\n",
       "<style scoped>\n",
       "    .dataframe tbody tr th:only-of-type {\n",
       "        vertical-align: middle;\n",
       "    }\n",
       "\n",
       "    .dataframe tbody tr th {\n",
       "        vertical-align: top;\n",
       "    }\n",
       "\n",
       "    .dataframe thead th {\n",
       "        text-align: right;\n",
       "    }\n",
       "</style>\n",
       "<table border=\"1\" class=\"dataframe\">\n",
       "  <thead>\n",
       "    <tr style=\"text-align: right;\">\n",
       "      <th></th>\n",
       "      <th>BookID</th>\n",
       "      <th>Name</th>\n",
       "      <th>ISBN</th>\n",
       "      <th>Publisher</th>\n",
       "      <th>Date</th>\n",
       "      <th>Author</th>\n",
       "      <th>Tag</th>\n",
       "    </tr>\n",
       "  </thead>\n",
       "  <tbody>\n",
       "    <tr>\n",
       "      <th>0</th>\n",
       "      <td>123456789</td>\n",
       "      <td>面向对象</td>\n",
       "      <td>8-60-43-83</td>\n",
       "      <td>邮电出版社</td>\n",
       "      <td>2008-3-15</td>\n",
       "      <td>Jack</td>\n",
       "      <td>cs</td>\n",
       "    </tr>\n",
       "  </tbody>\n",
       "</table>\n",
       "</div>"
      ],
      "text/plain": [
       "      BookID  Name        ISBN Publisher       Date Author Tag\n",
       "0  123456789  面向对象  8-60-43-83     邮电出版社  2008-3-15   Jack  cs"
      ]
     },
     "execution_count": 7,
     "metadata": {},
     "output_type": "execute_result"
    }
   ],
   "source": [
    "newbook = pd.DataFrame({'BookID':'123456789','Name':'面向对象','ISBN':'8-60-43-83','Publisher':'邮电出版社','Date':'2008-3-15','Author':'Jack','Tag':'cs'},index=[0])\n",
    "#bookpd = bookpd.append(newbook,ignore_index=False)\n",
    "newbook"
   ]
  },
  {
   "cell_type": "code",
   "execution_count": 8,
   "metadata": {},
   "outputs": [
    {
     "name": "stderr",
     "output_type": "stream",
     "text": [
      "/home/cattty/anaconda3/lib/python3.6/site-packages/pandas/core/frame.py:6201: FutureWarning: Sorting because non-concatenation axis is not aligned. A future version\n",
      "of pandas will change to not sort by default.\n",
      "\n",
      "To accept the future behavior, pass 'sort=True'.\n",
      "\n",
      "To retain the current behavior and silence the warning, pass sort=False\n",
      "\n",
      "  sort=sort)\n"
     ]
    },
    {
     "data": {
      "text/html": [
       "<div>\n",
       "<style scoped>\n",
       "    .dataframe tbody tr th:only-of-type {\n",
       "        vertical-align: middle;\n",
       "    }\n",
       "\n",
       "    .dataframe tbody tr th {\n",
       "        vertical-align: top;\n",
       "    }\n",
       "\n",
       "    .dataframe thead th {\n",
       "        text-align: right;\n",
       "    }\n",
       "</style>\n",
       "<table border=\"1\" class=\"dataframe\">\n",
       "  <thead>\n",
       "    <tr style=\"text-align: right;\">\n",
       "      <th></th>\n",
       "      <th>Author</th>\n",
       "      <th>BookID</th>\n",
       "      <th>Date</th>\n",
       "      <th>ISBN</th>\n",
       "      <th>Name</th>\n",
       "      <th>Publisher</th>\n",
       "      <th>Stock</th>\n",
       "      <th>Tag</th>\n",
       "    </tr>\n",
       "  </thead>\n",
       "  <tbody>\n",
       "    <tr>\n",
       "      <th>0</th>\n",
       "      <td>Amy</td>\n",
       "      <td>2140729702</td>\n",
       "      <td>1932-7-9</td>\n",
       "      <td>5-78-6-59</td>\n",
       "      <td>编译原理</td>\n",
       "      <td>科学出版社</td>\n",
       "      <td>2.0</td>\n",
       "      <td>cs</td>\n",
       "    </tr>\n",
       "    <tr>\n",
       "      <th>1</th>\n",
       "      <td>Bob</td>\n",
       "      <td>2604127861</td>\n",
       "      <td>1958-5-26</td>\n",
       "      <td>2-40-80-26</td>\n",
       "      <td>计算方法</td>\n",
       "      <td>科学出版社</td>\n",
       "      <td>3.0</td>\n",
       "      <td>math</td>\n",
       "    </tr>\n",
       "    <tr>\n",
       "      <th>2</th>\n",
       "      <td>Cindy</td>\n",
       "      <td>2252230784</td>\n",
       "      <td>2006-1-29</td>\n",
       "      <td>2-98-27-88</td>\n",
       "      <td>算法基础</td>\n",
       "      <td>科学出版社</td>\n",
       "      <td>4.0</td>\n",
       "      <td>cs</td>\n",
       "    </tr>\n",
       "    <tr>\n",
       "      <th>3</th>\n",
       "      <td>David</td>\n",
       "      <td>3680731243</td>\n",
       "      <td>1906-13-27</td>\n",
       "      <td>9-37-80-17</td>\n",
       "      <td>随机过程</td>\n",
       "      <td>科学出版社</td>\n",
       "      <td>5.0</td>\n",
       "      <td>cs</td>\n",
       "    </tr>\n",
       "    <tr>\n",
       "      <th>4</th>\n",
       "      <td>Emily</td>\n",
       "      <td>3259332476</td>\n",
       "      <td>1983-12-27</td>\n",
       "      <td>9-57-55-23</td>\n",
       "      <td>计算机网络</td>\n",
       "      <td>机械工业出版社</td>\n",
       "      <td>6.0</td>\n",
       "      <td>cs</td>\n",
       "    </tr>\n",
       "    <tr>\n",
       "      <th>5</th>\n",
       "      <td>Jack</td>\n",
       "      <td>123456789</td>\n",
       "      <td>2008-3-15</td>\n",
       "      <td>8-60-43-83</td>\n",
       "      <td>面向对象</td>\n",
       "      <td>邮电出版社</td>\n",
       "      <td>NaN</td>\n",
       "      <td>cs</td>\n",
       "    </tr>\n",
       "  </tbody>\n",
       "</table>\n",
       "</div>"
      ],
      "text/plain": [
       "  Author      BookID        Date        ISBN   Name Publisher  Stock   Tag\n",
       "0    Amy  2140729702    1932-7-9   5-78-6-59   编译原理     科学出版社    2.0    cs\n",
       "1    Bob  2604127861   1958-5-26  2-40-80-26   计算方法     科学出版社    3.0  math\n",
       "2  Cindy  2252230784   2006-1-29  2-98-27-88   算法基础     科学出版社    4.0    cs\n",
       "3  David  3680731243  1906-13-27  9-37-80-17   随机过程     科学出版社    5.0    cs\n",
       "4  Emily  3259332476  1983-12-27  9-57-55-23  计算机网络   机械工业出版社    6.0    cs\n",
       "5   Jack   123456789   2008-3-15  8-60-43-83   面向对象     邮电出版社    NaN    cs"
      ]
     },
     "execution_count": 8,
     "metadata": {},
     "output_type": "execute_result"
    }
   ],
   "source": [
    "bookpd = bookpd.append(newbook,ignore_index=True)\n",
    "bookpd"
   ]
  },
  {
   "cell_type": "code",
   "execution_count": 9,
   "metadata": {},
   "outputs": [
    {
     "data": {
      "text/plain": [
       "4"
      ]
     },
     "execution_count": 9,
     "metadata": {},
     "output_type": "execute_result"
    }
   ],
   "source": [
    "bookpd[bookpd.Name == '计算机网络'].index[0]"
   ]
  },
  {
   "cell_type": "code",
   "execution_count": 47,
   "metadata": {},
   "outputs": [
    {
     "name": "stderr",
     "output_type": "stream",
     "text": [
      "/home/cattty/anaconda3/lib/python3.6/site-packages/ipykernel_launcher.py:2: UserWarning: Boolean Series key will be reindexed to match DataFrame index.\n",
      "  \n"
     ]
    },
    {
     "data": {
      "text/html": [
       "<div>\n",
       "<style scoped>\n",
       "    .dataframe tbody tr th:only-of-type {\n",
       "        vertical-align: middle;\n",
       "    }\n",
       "\n",
       "    .dataframe tbody tr th {\n",
       "        vertical-align: top;\n",
       "    }\n",
       "\n",
       "    .dataframe thead th {\n",
       "        text-align: right;\n",
       "    }\n",
       "</style>\n",
       "<table border=\"1\" class=\"dataframe\">\n",
       "  <thead>\n",
       "    <tr style=\"text-align: right;\">\n",
       "      <th></th>\n",
       "      <th>Author</th>\n",
       "      <th>BookID</th>\n",
       "      <th>Date</th>\n",
       "      <th>ISBN</th>\n",
       "      <th>Name</th>\n",
       "      <th>Publisher</th>\n",
       "      <th>Stock</th>\n",
       "      <th>Tag</th>\n",
       "    </tr>\n",
       "  </thead>\n",
       "  <tbody>\n",
       "    <tr>\n",
       "      <th>0</th>\n",
       "      <td>Amy</td>\n",
       "      <td>2140729702</td>\n",
       "      <td>1932-7-9</td>\n",
       "      <td>5-78-6-59</td>\n",
       "      <td>编译原理</td>\n",
       "      <td>科学出版社</td>\n",
       "      <td>6.0</td>\n",
       "      <td>cs</td>\n",
       "    </tr>\n",
       "    <tr>\n",
       "      <th>1</th>\n",
       "      <td>Bob</td>\n",
       "      <td>2604127861</td>\n",
       "      <td>1958-5-26</td>\n",
       "      <td>2-40-80-26</td>\n",
       "      <td>计算方法</td>\n",
       "      <td>科学出版社</td>\n",
       "      <td>3.0</td>\n",
       "      <td>math</td>\n",
       "    </tr>\n",
       "    <tr>\n",
       "      <th>2</th>\n",
       "      <td>Cindy</td>\n",
       "      <td>2252230784</td>\n",
       "      <td>2006-1-29</td>\n",
       "      <td>2-98-27-88</td>\n",
       "      <td>算法基础</td>\n",
       "      <td>科学出版社</td>\n",
       "      <td>4.0</td>\n",
       "      <td>cs</td>\n",
       "    </tr>\n",
       "    <tr>\n",
       "      <th>3</th>\n",
       "      <td>David</td>\n",
       "      <td>3680731243</td>\n",
       "      <td>1906-13-27</td>\n",
       "      <td>9-37-80-17</td>\n",
       "      <td>随机过程</td>\n",
       "      <td>科学出版社</td>\n",
       "      <td>5.0</td>\n",
       "      <td>cs</td>\n",
       "    </tr>\n",
       "    <tr>\n",
       "      <th>5</th>\n",
       "      <td>Jack</td>\n",
       "      <td>123456789</td>\n",
       "      <td>2018-3-15</td>\n",
       "      <td>8-60-43-83</td>\n",
       "      <td>面向对象</td>\n",
       "      <td>邮电出版社</td>\n",
       "      <td>NaN</td>\n",
       "      <td>cs</td>\n",
       "    </tr>\n",
       "  </tbody>\n",
       "</table>\n",
       "</div>"
      ],
      "text/plain": [
       "  Author      BookID        Date        ISBN  Name Publisher  Stock   Tag\n",
       "0    Amy  2140729702    1932-7-9   5-78-6-59  编译原理     科学出版社    6.0    cs\n",
       "1    Bob  2604127861   1958-5-26  2-40-80-26  计算方法     科学出版社    3.0  math\n",
       "2  Cindy  2252230784   2006-1-29  2-98-27-88  算法基础     科学出版社    4.0    cs\n",
       "3  David  3680731243  1906-13-27  9-37-80-17  随机过程     科学出版社    5.0    cs\n",
       "5   Jack   123456789   2018-3-15  8-60-43-83  面向对象     邮电出版社    NaN    cs"
      ]
     },
     "execution_count": 47,
     "metadata": {},
     "output_type": "execute_result"
    }
   ],
   "source": [
    "#bookpd  = bookpd.drop(bookpd[bookpd.Name == '计算机网络'].index[0])\n",
    "bbdf = bookpd[bookpd.Tag == 'cs'][bookpd.Stock < 4]\n",
    "bbdf\n",
    "#bbdf['Stock'] -= 1\n",
    "bbdf\n",
    "#bookpd[bookpd.ISBN == bbdf['ISBN'][0]]['Stock'] -=1\n",
    "#bookpd.loc[bookpd[bookpd.ISBN == bbdf['ISBN'][0]].index[0],'Stock'] -= 1\n",
    "bookpd.loc[bookpd[bookpd.ISBN == bbdf['ISBN'][0]].index[0],'Stock'] = 3 + bbdf['Stock'][0]\n",
    "bookpd\n"
   ]
  },
  {
   "cell_type": "code",
   "execution_count": 11,
   "metadata": {},
   "outputs": [
    {
     "data": {
      "text/html": [
       "<div>\n",
       "<style scoped>\n",
       "    .dataframe tbody tr th:only-of-type {\n",
       "        vertical-align: middle;\n",
       "    }\n",
       "\n",
       "    .dataframe tbody tr th {\n",
       "        vertical-align: top;\n",
       "    }\n",
       "\n",
       "    .dataframe thead th {\n",
       "        text-align: right;\n",
       "    }\n",
       "</style>\n",
       "<table border=\"1\" class=\"dataframe\">\n",
       "  <thead>\n",
       "    <tr style=\"text-align: right;\">\n",
       "      <th></th>\n",
       "      <th>Author</th>\n",
       "      <th>BookID</th>\n",
       "      <th>Date</th>\n",
       "      <th>ISBN</th>\n",
       "      <th>Name</th>\n",
       "      <th>Publisher</th>\n",
       "      <th>Stock</th>\n",
       "      <th>Tag</th>\n",
       "    </tr>\n",
       "  </thead>\n",
       "  <tbody>\n",
       "    <tr>\n",
       "      <th>0</th>\n",
       "      <td>Amy</td>\n",
       "      <td>2140729702</td>\n",
       "      <td>1932-7-9</td>\n",
       "      <td>5-78-6-59</td>\n",
       "      <td>编译原理</td>\n",
       "      <td>科学出版社</td>\n",
       "      <td>2.0</td>\n",
       "      <td>cs</td>\n",
       "    </tr>\n",
       "    <tr>\n",
       "      <th>1</th>\n",
       "      <td>Bob</td>\n",
       "      <td>2604127861</td>\n",
       "      <td>1958-5-26</td>\n",
       "      <td>2-40-80-26</td>\n",
       "      <td>计算方法</td>\n",
       "      <td>科学出版社</td>\n",
       "      <td>3.0</td>\n",
       "      <td>math</td>\n",
       "    </tr>\n",
       "    <tr>\n",
       "      <th>2</th>\n",
       "      <td>Cindy</td>\n",
       "      <td>2252230784</td>\n",
       "      <td>2006-1-29</td>\n",
       "      <td>2-98-27-88</td>\n",
       "      <td>算法基础</td>\n",
       "      <td>科学出版社</td>\n",
       "      <td>4.0</td>\n",
       "      <td>cs</td>\n",
       "    </tr>\n",
       "    <tr>\n",
       "      <th>3</th>\n",
       "      <td>David</td>\n",
       "      <td>3680731243</td>\n",
       "      <td>1906-13-27</td>\n",
       "      <td>9-37-80-17</td>\n",
       "      <td>随机过程</td>\n",
       "      <td>科学出版社</td>\n",
       "      <td>5.0</td>\n",
       "      <td>cs</td>\n",
       "    </tr>\n",
       "    <tr>\n",
       "      <th>5</th>\n",
       "      <td>Jack</td>\n",
       "      <td>123456789</td>\n",
       "      <td>2008-3-15</td>\n",
       "      <td>8-60-43-83</td>\n",
       "      <td>面向对象</td>\n",
       "      <td>邮电出版社</td>\n",
       "      <td>NaN</td>\n",
       "      <td>cs</td>\n",
       "    </tr>\n",
       "  </tbody>\n",
       "</table>\n",
       "</div>"
      ],
      "text/plain": [
       "  Author      BookID        Date        ISBN  Name Publisher  Stock   Tag\n",
       "0    Amy  2140729702    1932-7-9   5-78-6-59  编译原理     科学出版社    2.0    cs\n",
       "1    Bob  2604127861   1958-5-26  2-40-80-26  计算方法     科学出版社    3.0  math\n",
       "2  Cindy  2252230784   2006-1-29  2-98-27-88  算法基础     科学出版社    4.0    cs\n",
       "3  David  3680731243  1906-13-27  9-37-80-17  随机过程     科学出版社    5.0    cs\n",
       "5   Jack   123456789   2008-3-15  8-60-43-83  面向对象     邮电出版社    NaN    cs"
      ]
     },
     "execution_count": 11,
     "metadata": {},
     "output_type": "execute_result"
    }
   ],
   "source": [
    "bookpd"
   ]
  },
  {
   "cell_type": "code",
   "execution_count": 12,
   "metadata": {},
   "outputs": [],
   "source": [
    "bookpd.loc[bookpd[bookpd.Name == '面向对象'].index[0],'Date'] = '2018-3-15'"
   ]
  },
  {
   "cell_type": "code",
   "execution_count": 13,
   "metadata": {},
   "outputs": [
    {
     "data": {
      "text/html": [
       "<div>\n",
       "<style scoped>\n",
       "    .dataframe tbody tr th:only-of-type {\n",
       "        vertical-align: middle;\n",
       "    }\n",
       "\n",
       "    .dataframe tbody tr th {\n",
       "        vertical-align: top;\n",
       "    }\n",
       "\n",
       "    .dataframe thead th {\n",
       "        text-align: right;\n",
       "    }\n",
       "</style>\n",
       "<table border=\"1\" class=\"dataframe\">\n",
       "  <thead>\n",
       "    <tr style=\"text-align: right;\">\n",
       "      <th></th>\n",
       "      <th>Author</th>\n",
       "      <th>BookID</th>\n",
       "      <th>Date</th>\n",
       "      <th>ISBN</th>\n",
       "      <th>Name</th>\n",
       "      <th>Publisher</th>\n",
       "      <th>Stock</th>\n",
       "      <th>Tag</th>\n",
       "    </tr>\n",
       "  </thead>\n",
       "  <tbody>\n",
       "    <tr>\n",
       "      <th>0</th>\n",
       "      <td>Amy</td>\n",
       "      <td>2140729702</td>\n",
       "      <td>1932-7-9</td>\n",
       "      <td>5-78-6-59</td>\n",
       "      <td>编译原理</td>\n",
       "      <td>科学出版社</td>\n",
       "      <td>2.0</td>\n",
       "      <td>cs</td>\n",
       "    </tr>\n",
       "    <tr>\n",
       "      <th>1</th>\n",
       "      <td>Bob</td>\n",
       "      <td>2604127861</td>\n",
       "      <td>1958-5-26</td>\n",
       "      <td>2-40-80-26</td>\n",
       "      <td>计算方法</td>\n",
       "      <td>科学出版社</td>\n",
       "      <td>3.0</td>\n",
       "      <td>math</td>\n",
       "    </tr>\n",
       "    <tr>\n",
       "      <th>2</th>\n",
       "      <td>Cindy</td>\n",
       "      <td>2252230784</td>\n",
       "      <td>2006-1-29</td>\n",
       "      <td>2-98-27-88</td>\n",
       "      <td>算法基础</td>\n",
       "      <td>科学出版社</td>\n",
       "      <td>4.0</td>\n",
       "      <td>cs</td>\n",
       "    </tr>\n",
       "    <tr>\n",
       "      <th>3</th>\n",
       "      <td>David</td>\n",
       "      <td>3680731243</td>\n",
       "      <td>1906-13-27</td>\n",
       "      <td>9-37-80-17</td>\n",
       "      <td>随机过程</td>\n",
       "      <td>科学出版社</td>\n",
       "      <td>5.0</td>\n",
       "      <td>cs</td>\n",
       "    </tr>\n",
       "    <tr>\n",
       "      <th>5</th>\n",
       "      <td>Jack</td>\n",
       "      <td>123456789</td>\n",
       "      <td>2018-3-15</td>\n",
       "      <td>8-60-43-83</td>\n",
       "      <td>面向对象</td>\n",
       "      <td>邮电出版社</td>\n",
       "      <td>NaN</td>\n",
       "      <td>cs</td>\n",
       "    </tr>\n",
       "  </tbody>\n",
       "</table>\n",
       "</div>"
      ],
      "text/plain": [
       "  Author      BookID        Date        ISBN  Name Publisher  Stock   Tag\n",
       "0    Amy  2140729702    1932-7-9   5-78-6-59  编译原理     科学出版社    2.0    cs\n",
       "1    Bob  2604127861   1958-5-26  2-40-80-26  计算方法     科学出版社    3.0  math\n",
       "2  Cindy  2252230784   2006-1-29  2-98-27-88  算法基础     科学出版社    4.0    cs\n",
       "3  David  3680731243  1906-13-27  9-37-80-17  随机过程     科学出版社    5.0    cs\n",
       "5   Jack   123456789   2018-3-15  8-60-43-83  面向对象     邮电出版社    NaN    cs"
      ]
     },
     "execution_count": 13,
     "metadata": {},
     "output_type": "execute_result"
    }
   ],
   "source": [
    "bookpd"
   ]
  },
  {
   "cell_type": "code",
   "execution_count": 48,
   "metadata": {},
   "outputs": [
    {
     "name": "stdout",
     "output_type": "stream",
     "text": [
      "Author              Amy\n",
      "BookID       2140729702\n",
      "Date           1932-7-9\n",
      "ISBN          5-78-6-59\n",
      "Name               编译原理\n",
      "Publisher         科学出版社\n",
      "Stock                 6\n",
      "Tag                  cs\n",
      "Name: 0, dtype: object\n"
     ]
    }
   ],
   "source": [
    "bookpd['BookID']\n",
    "for index, row in bookpd.iterrows():\n",
    "    if(index == 0):\n",
    "        print(row)"
   ]
  },
  {
   "cell_type": "code",
   "execution_count": 59,
   "metadata": {},
   "outputs": [
    {
     "name": "stdout",
     "output_type": "stream",
     "text": [
      "['计算机网络', '编译原理']\n"
     ]
    }
   ],
   "source": [
    "import re\n",
    "his = '@@计算机网络%%@@编译原理%%'\n",
    "print(re.findall(r\"@@(.+?)%%\",his))"
   ]
  },
  {
   "cell_type": "code",
   "execution_count": 63,
   "metadata": {},
   "outputs": [
    {
     "data": {
      "text/plain": [
       "'@@编译原理%%'"
      ]
     },
     "execution_count": 63,
     "metadata": {},
     "output_type": "execute_result"
    }
   ],
   "source": [
    "name = '计算机网络'\n",
    "name = '@@'+name+'%%'\n",
    "name\n",
    "his = his.replace(name,'')\n",
    "his"
   ]
  },
  {
   "cell_type": "code",
   "execution_count": null,
   "metadata": {},
   "outputs": [],
   "source": []
  },
  {
   "cell_type": "code",
   "execution_count": null,
   "metadata": {},
   "outputs": [],
   "source": []
  }
 ],
 "metadata": {
  "kernelspec": {
   "display_name": "Python 3",
   "language": "python",
   "name": "python3"
  },
  "language_info": {
   "codemirror_mode": {
    "name": "ipython",
    "version": 3
   },
   "file_extension": ".py",
   "mimetype": "text/x-python",
   "name": "python",
   "nbconvert_exporter": "python",
   "pygments_lexer": "ipython3",
   "version": "3.6.10"
  },
  "toc": {
   "base_numbering": 1,
   "nav_menu": {},
   "number_sections": true,
   "sideBar": true,
   "skip_h1_title": false,
   "title_cell": "Table of Contents",
   "title_sidebar": "Contents",
   "toc_cell": false,
   "toc_position": {},
   "toc_section_display": true,
   "toc_window_display": false
  }
 },
 "nbformat": 4,
 "nbformat_minor": 4
}
