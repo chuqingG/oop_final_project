{
 "cells": [
  {
   "cell_type": "code",
   "execution_count": 1,
   "metadata": {},
   "outputs": [],
   "source": [
    "import numpy as np\n",
    "import pandas as pd\n",
    "from pandas import Series,DataFrame\n",
    "\n",
    "userpd = pd.read_csv(\"data/user.csv\")\n",
    "bookpd = pd.read_csv(\"data/book.csv\")"
   ]
  },
  {
   "cell_type": "code",
   "execution_count": 2,
   "metadata": {},
   "outputs": [
    {
     "data": {
      "text/html": [
       "<div>\n",
       "<style scoped>\n",
       "    .dataframe tbody tr th:only-of-type {\n",
       "        vertical-align: middle;\n",
       "    }\n",
       "\n",
       "    .dataframe tbody tr th {\n",
       "        vertical-align: top;\n",
       "    }\n",
       "\n",
       "    .dataframe thead th {\n",
       "        text-align: right;\n",
       "    }\n",
       "</style>\n",
       "<table border=\"1\" class=\"dataframe\">\n",
       "  <thead>\n",
       "    <tr style=\"text-align: right;\">\n",
       "      <th></th>\n",
       "      <th>UserID</th>\n",
       "      <th>Name</th>\n",
       "      <th>Type</th>\n",
       "      <th>PhoneNumber</th>\n",
       "      <th>CurrentBorrow</th>\n",
       "      <th>History</th>\n",
       "    </tr>\n",
       "  </thead>\n",
       "  <tbody>\n",
       "    <tr>\n",
       "      <th>0</th>\n",
       "      <td>2435219977</td>\n",
       "      <td>张三</td>\n",
       "      <td>normal</td>\n",
       "      <td>18212341234</td>\n",
       "      <td>@@随机过程%%</td>\n",
       "      <td>@@随机过程%%@@计算机网络%%@@编译原理%%</td>\n",
       "    </tr>\n",
       "    <tr>\n",
       "      <th>1</th>\n",
       "      <td>2644622235</td>\n",
       "      <td>李四</td>\n",
       "      <td>vip</td>\n",
       "      <td>18312341234</td>\n",
       "      <td>None</td>\n",
       "      <td>None</td>\n",
       "    </tr>\n",
       "    <tr>\n",
       "      <th>2</th>\n",
       "      <td>2957920116</td>\n",
       "      <td>王五</td>\n",
       "      <td>normal</td>\n",
       "      <td>18412341234</td>\n",
       "      <td>None</td>\n",
       "      <td>None</td>\n",
       "    </tr>\n",
       "    <tr>\n",
       "      <th>3</th>\n",
       "      <td>3621320845</td>\n",
       "      <td>赵六</td>\n",
       "      <td>normal</td>\n",
       "      <td>18512341234</td>\n",
       "      <td>None</td>\n",
       "      <td>None</td>\n",
       "    </tr>\n",
       "    <tr>\n",
       "      <th>4</th>\n",
       "      <td>1526495812</td>\n",
       "      <td>吕七</td>\n",
       "      <td>vip</td>\n",
       "      <td>19254859625</td>\n",
       "      <td>None</td>\n",
       "      <td>None</td>\n",
       "    </tr>\n",
       "    <tr>\n",
       "      <th>5</th>\n",
       "      <td>4235162580</td>\n",
       "      <td>毕九</td>\n",
       "      <td>vip</td>\n",
       "      <td>18255525569</td>\n",
       "      <td>None</td>\n",
       "      <td>@@算法基础%%</td>\n",
       "    </tr>\n",
       "  </tbody>\n",
       "</table>\n",
       "</div>"
      ],
      "text/plain": [
       "       UserID Name    Type  PhoneNumber CurrentBorrow  \\\n",
       "0  2435219977   张三  normal  18212341234      @@随机过程%%   \n",
       "1  2644622235   李四     vip  18312341234          None   \n",
       "2  2957920116   王五  normal  18412341234          None   \n",
       "3  3621320845   赵六  normal  18512341234          None   \n",
       "4  1526495812   吕七     vip  19254859625          None   \n",
       "5  4235162580   毕九     vip  18255525569          None   \n",
       "\n",
       "                     History  \n",
       "0  @@随机过程%%@@计算机网络%%@@编译原理%%  \n",
       "1                       None  \n",
       "2                       None  \n",
       "3                       None  \n",
       "4                       None  \n",
       "5                   @@算法基础%%  "
      ]
     },
     "execution_count": 2,
     "metadata": {},
     "output_type": "execute_result"
    }
   ],
   "source": [
    "userpd"
   ]
  },
  {
   "cell_type": "code",
   "execution_count": 3,
   "metadata": {},
   "outputs": [
    {
     "data": {
      "text/html": [
       "<div>\n",
       "<style scoped>\n",
       "    .dataframe tbody tr th:only-of-type {\n",
       "        vertical-align: middle;\n",
       "    }\n",
       "\n",
       "    .dataframe tbody tr th {\n",
       "        vertical-align: top;\n",
       "    }\n",
       "\n",
       "    .dataframe thead th {\n",
       "        text-align: right;\n",
       "    }\n",
       "</style>\n",
       "<table border=\"1\" class=\"dataframe\">\n",
       "  <thead>\n",
       "    <tr style=\"text-align: right;\">\n",
       "      <th></th>\n",
       "      <th>Author</th>\n",
       "      <th>BookID</th>\n",
       "      <th>Date</th>\n",
       "      <th>ISBN</th>\n",
       "      <th>Name</th>\n",
       "      <th>Publisher</th>\n",
       "      <th>Stock</th>\n",
       "      <th>Tag</th>\n",
       "    </tr>\n",
       "  </thead>\n",
       "  <tbody>\n",
       "    <tr>\n",
       "      <th>0</th>\n",
       "      <td>Amy</td>\n",
       "      <td>2140729702</td>\n",
       "      <td>1932-7-9</td>\n",
       "      <td>5-78-6-59</td>\n",
       "      <td>编译原理</td>\n",
       "      <td>科学出版社</td>\n",
       "      <td>6</td>\n",
       "      <td>cs</td>\n",
       "    </tr>\n",
       "    <tr>\n",
       "      <th>1</th>\n",
       "      <td>Bob</td>\n",
       "      <td>2604127861</td>\n",
       "      <td>1958-5-26</td>\n",
       "      <td>2-40-80-26</td>\n",
       "      <td>计算方法</td>\n",
       "      <td>科学出版社</td>\n",
       "      <td>3</td>\n",
       "      <td>math</td>\n",
       "    </tr>\n",
       "    <tr>\n",
       "      <th>2</th>\n",
       "      <td>Cindy</td>\n",
       "      <td>2252230784</td>\n",
       "      <td>2006-1-29</td>\n",
       "      <td>2-98-27-88</td>\n",
       "      <td>算法基础</td>\n",
       "      <td>科学出版社</td>\n",
       "      <td>4</td>\n",
       "      <td>cs</td>\n",
       "    </tr>\n",
       "    <tr>\n",
       "      <th>3</th>\n",
       "      <td>David</td>\n",
       "      <td>3680731243</td>\n",
       "      <td>1906-13-27</td>\n",
       "      <td>9-37-80-17</td>\n",
       "      <td>随机过程</td>\n",
       "      <td>科学出版社</td>\n",
       "      <td>5</td>\n",
       "      <td>cs</td>\n",
       "    </tr>\n",
       "    <tr>\n",
       "      <th>4</th>\n",
       "      <td>Emily</td>\n",
       "      <td>3259332476</td>\n",
       "      <td>1983-12-27</td>\n",
       "      <td>9-57-55-23</td>\n",
       "      <td>计算机网络</td>\n",
       "      <td>机械工业出版社</td>\n",
       "      <td>6</td>\n",
       "      <td>cs</td>\n",
       "    </tr>\n",
       "    <tr>\n",
       "      <th>5</th>\n",
       "      <td>Frank</td>\n",
       "      <td>2195342051</td>\n",
       "      <td>2018-3-16</td>\n",
       "      <td>4-23-61-20</td>\n",
       "      <td>面向对象</td>\n",
       "      <td>人民邮电出版社</td>\n",
       "      <td>2</td>\n",
       "      <td>cs</td>\n",
       "    </tr>\n",
       "  </tbody>\n",
       "</table>\n",
       "</div>"
      ],
      "text/plain": [
       "  Author      BookID        Date        ISBN   Name Publisher  Stock   Tag\n",
       "0    Amy  2140729702    1932-7-9   5-78-6-59   编译原理     科学出版社      6    cs\n",
       "1    Bob  2604127861   1958-5-26  2-40-80-26   计算方法     科学出版社      3  math\n",
       "2  Cindy  2252230784   2006-1-29  2-98-27-88   算法基础     科学出版社      4    cs\n",
       "3  David  3680731243  1906-13-27  9-37-80-17   随机过程     科学出版社      5    cs\n",
       "4  Emily  3259332476  1983-12-27  9-57-55-23  计算机网络   机械工业出版社      6    cs\n",
       "5  Frank  2195342051   2018-3-16  4-23-61-20   面向对象   人民邮电出版社      2    cs"
      ]
     },
     "execution_count": 3,
     "metadata": {},
     "output_type": "execute_result"
    }
   ],
   "source": [
    "bookpd"
   ]
  },
  {
   "cell_type": "code",
   "execution_count": 4,
   "metadata": {},
   "outputs": [
    {
     "data": {
      "text/plain": [
       "'56789'"
      ]
     },
     "execution_count": 4,
     "metadata": {},
     "output_type": "execute_result"
    }
   ],
   "source": [
    "uid = \"123456789\"\n",
    "uid[-5:]"
   ]
  },
  {
   "cell_type": "code",
   "execution_count": 5,
   "metadata": {},
   "outputs": [],
   "source": [
    "bookpd.to_csv(\"data/testb.csv\",index=False,sep=',')"
   ]
  },
  {
   "cell_type": "code",
   "execution_count": 6,
   "metadata": {},
   "outputs": [
    {
     "data": {
      "text/html": [
       "<div>\n",
       "<style scoped>\n",
       "    .dataframe tbody tr th:only-of-type {\n",
       "        vertical-align: middle;\n",
       "    }\n",
       "\n",
       "    .dataframe tbody tr th {\n",
       "        vertical-align: top;\n",
       "    }\n",
       "\n",
       "    .dataframe thead th {\n",
       "        text-align: right;\n",
       "    }\n",
       "</style>\n",
       "<table border=\"1\" class=\"dataframe\">\n",
       "  <thead>\n",
       "    <tr style=\"text-align: right;\">\n",
       "      <th></th>\n",
       "      <th>Author</th>\n",
       "      <th>BookID</th>\n",
       "      <th>Date</th>\n",
       "      <th>ISBN</th>\n",
       "      <th>Name</th>\n",
       "      <th>Publisher</th>\n",
       "      <th>Stock</th>\n",
       "      <th>Tag</th>\n",
       "    </tr>\n",
       "  </thead>\n",
       "  <tbody>\n",
       "    <tr>\n",
       "      <th>1</th>\n",
       "      <td>Bob</td>\n",
       "      <td>2604127861</td>\n",
       "      <td>1958-5-26</td>\n",
       "      <td>2-40-80-26</td>\n",
       "      <td>计算方法</td>\n",
       "      <td>科学出版社</td>\n",
       "      <td>3</td>\n",
       "      <td>math</td>\n",
       "    </tr>\n",
       "  </tbody>\n",
       "</table>\n",
       "</div>"
      ],
      "text/plain": [
       "  Author      BookID       Date        ISBN  Name Publisher  Stock   Tag\n",
       "1    Bob  2604127861  1958-5-26  2-40-80-26  计算方法     科学出版社      3  math"
      ]
     },
     "execution_count": 6,
     "metadata": {},
     "output_type": "execute_result"
    }
   ],
   "source": [
    "bookpd[bookpd.Name == \"计算方法\"]"
   ]
  },
  {
   "cell_type": "code",
   "execution_count": 7,
   "metadata": {},
   "outputs": [
    {
     "data": {
      "text/html": [
       "<div>\n",
       "<style scoped>\n",
       "    .dataframe tbody tr th:only-of-type {\n",
       "        vertical-align: middle;\n",
       "    }\n",
       "\n",
       "    .dataframe tbody tr th {\n",
       "        vertical-align: top;\n",
       "    }\n",
       "\n",
       "    .dataframe thead th {\n",
       "        text-align: right;\n",
       "    }\n",
       "</style>\n",
       "<table border=\"1\" class=\"dataframe\">\n",
       "  <thead>\n",
       "    <tr style=\"text-align: right;\">\n",
       "      <th></th>\n",
       "      <th>BookID</th>\n",
       "      <th>Name</th>\n",
       "      <th>ISBN</th>\n",
       "      <th>Publisher</th>\n",
       "      <th>Date</th>\n",
       "      <th>Author</th>\n",
       "      <th>Tag</th>\n",
       "      <th>Stock</th>\n",
       "    </tr>\n",
       "  </thead>\n",
       "  <tbody>\n",
       "    <tr>\n",
       "      <th>0</th>\n",
       "      <td>123456789</td>\n",
       "      <td>面向对象</td>\n",
       "      <td>8-60-43-83</td>\n",
       "      <td>邮电出版社</td>\n",
       "      <td>2008-3-15</td>\n",
       "      <td>Jack</td>\n",
       "      <td>cs</td>\n",
       "      <td>3</td>\n",
       "    </tr>\n",
       "  </tbody>\n",
       "</table>\n",
       "</div>"
      ],
      "text/plain": [
       "      BookID  Name        ISBN Publisher       Date Author Tag  Stock\n",
       "0  123456789  面向对象  8-60-43-83     邮电出版社  2008-3-15   Jack  cs      3"
      ]
     },
     "execution_count": 7,
     "metadata": {},
     "output_type": "execute_result"
    }
   ],
   "source": [
    "newbook = pd.DataFrame({'BookID':'123456789','Name':'面向对象','ISBN':'8-60-43-83','Publisher':'邮电出版社','Date':'2008-3-15','Author':'Jack','Tag':'cs','Stock':3},index=[0])\n",
    "#bookpd = bookpd.append(newbook,ignore_index=False)\n",
    "newbook"
   ]
  },
  {
   "cell_type": "code",
   "execution_count": 8,
   "metadata": {},
   "outputs": [
    {
     "data": {
      "text/html": [
       "<div>\n",
       "<style scoped>\n",
       "    .dataframe tbody tr th:only-of-type {\n",
       "        vertical-align: middle;\n",
       "    }\n",
       "\n",
       "    .dataframe tbody tr th {\n",
       "        vertical-align: top;\n",
       "    }\n",
       "\n",
       "    .dataframe thead th {\n",
       "        text-align: right;\n",
       "    }\n",
       "</style>\n",
       "<table border=\"1\" class=\"dataframe\">\n",
       "  <thead>\n",
       "    <tr style=\"text-align: right;\">\n",
       "      <th></th>\n",
       "      <th>Author</th>\n",
       "      <th>BookID</th>\n",
       "      <th>Date</th>\n",
       "      <th>ISBN</th>\n",
       "      <th>Name</th>\n",
       "      <th>Publisher</th>\n",
       "      <th>Stock</th>\n",
       "      <th>Tag</th>\n",
       "    </tr>\n",
       "  </thead>\n",
       "  <tbody>\n",
       "    <tr>\n",
       "      <th>0</th>\n",
       "      <td>Amy</td>\n",
       "      <td>2140729702</td>\n",
       "      <td>1932-7-9</td>\n",
       "      <td>5-78-6-59</td>\n",
       "      <td>编译原理</td>\n",
       "      <td>科学出版社</td>\n",
       "      <td>6</td>\n",
       "      <td>cs</td>\n",
       "    </tr>\n",
       "    <tr>\n",
       "      <th>1</th>\n",
       "      <td>Bob</td>\n",
       "      <td>2604127861</td>\n",
       "      <td>1958-5-26</td>\n",
       "      <td>2-40-80-26</td>\n",
       "      <td>计算方法</td>\n",
       "      <td>科学出版社</td>\n",
       "      <td>3</td>\n",
       "      <td>math</td>\n",
       "    </tr>\n",
       "    <tr>\n",
       "      <th>2</th>\n",
       "      <td>Cindy</td>\n",
       "      <td>2252230784</td>\n",
       "      <td>2006-1-29</td>\n",
       "      <td>2-98-27-88</td>\n",
       "      <td>算法基础</td>\n",
       "      <td>科学出版社</td>\n",
       "      <td>4</td>\n",
       "      <td>cs</td>\n",
       "    </tr>\n",
       "    <tr>\n",
       "      <th>3</th>\n",
       "      <td>David</td>\n",
       "      <td>3680731243</td>\n",
       "      <td>1906-13-27</td>\n",
       "      <td>9-37-80-17</td>\n",
       "      <td>随机过程</td>\n",
       "      <td>科学出版社</td>\n",
       "      <td>5</td>\n",
       "      <td>cs</td>\n",
       "    </tr>\n",
       "    <tr>\n",
       "      <th>4</th>\n",
       "      <td>Emily</td>\n",
       "      <td>3259332476</td>\n",
       "      <td>1983-12-27</td>\n",
       "      <td>9-57-55-23</td>\n",
       "      <td>计算机网络</td>\n",
       "      <td>机械工业出版社</td>\n",
       "      <td>6</td>\n",
       "      <td>cs</td>\n",
       "    </tr>\n",
       "    <tr>\n",
       "      <th>5</th>\n",
       "      <td>Frank</td>\n",
       "      <td>2195342051</td>\n",
       "      <td>2018-3-16</td>\n",
       "      <td>4-23-61-20</td>\n",
       "      <td>面向对象</td>\n",
       "      <td>人民邮电出版社</td>\n",
       "      <td>2</td>\n",
       "      <td>cs</td>\n",
       "    </tr>\n",
       "    <tr>\n",
       "      <th>6</th>\n",
       "      <td>Jack</td>\n",
       "      <td>123456789</td>\n",
       "      <td>2008-3-15</td>\n",
       "      <td>8-60-43-83</td>\n",
       "      <td>面向对象</td>\n",
       "      <td>邮电出版社</td>\n",
       "      <td>3</td>\n",
       "      <td>cs</td>\n",
       "    </tr>\n",
       "  </tbody>\n",
       "</table>\n",
       "</div>"
      ],
      "text/plain": [
       "  Author      BookID        Date        ISBN   Name Publisher  Stock   Tag\n",
       "0    Amy  2140729702    1932-7-9   5-78-6-59   编译原理     科学出版社      6    cs\n",
       "1    Bob  2604127861   1958-5-26  2-40-80-26   计算方法     科学出版社      3  math\n",
       "2  Cindy  2252230784   2006-1-29  2-98-27-88   算法基础     科学出版社      4    cs\n",
       "3  David  3680731243  1906-13-27  9-37-80-17   随机过程     科学出版社      5    cs\n",
       "4  Emily  3259332476  1983-12-27  9-57-55-23  计算机网络   机械工业出版社      6    cs\n",
       "5  Frank  2195342051   2018-3-16  4-23-61-20   面向对象   人民邮电出版社      2    cs\n",
       "6   Jack   123456789   2008-3-15  8-60-43-83   面向对象     邮电出版社      3    cs"
      ]
     },
     "execution_count": 8,
     "metadata": {},
     "output_type": "execute_result"
    }
   ],
   "source": [
    "bookpd = bookpd.append(newbook,ignore_index=True)\n",
    "bookpd"
   ]
  },
  {
   "cell_type": "code",
   "execution_count": 9,
   "metadata": {},
   "outputs": [
    {
     "data": {
      "text/plain": [
       "4"
      ]
     },
     "execution_count": 9,
     "metadata": {},
     "output_type": "execute_result"
    }
   ],
   "source": [
    "bookpd[bookpd.Name == '计算机网络'].index[0]"
   ]
  },
  {
   "cell_type": "code",
   "execution_count": 10,
   "metadata": {},
   "outputs": [
    {
     "name": "stderr",
     "output_type": "stream",
     "text": [
      "H:\\anaconda\\lib\\site-packages\\ipykernel_launcher.py:2: UserWarning: Boolean Series key will be reindexed to match DataFrame index.\n",
      "  \n"
     ]
    },
    {
     "data": {
      "text/html": [
       "<div>\n",
       "<style scoped>\n",
       "    .dataframe tbody tr th:only-of-type {\n",
       "        vertical-align: middle;\n",
       "    }\n",
       "\n",
       "    .dataframe tbody tr th {\n",
       "        vertical-align: top;\n",
       "    }\n",
       "\n",
       "    .dataframe thead th {\n",
       "        text-align: right;\n",
       "    }\n",
       "</style>\n",
       "<table border=\"1\" class=\"dataframe\">\n",
       "  <thead>\n",
       "    <tr style=\"text-align: right;\">\n",
       "      <th></th>\n",
       "      <th>Author</th>\n",
       "      <th>BookID</th>\n",
       "      <th>Date</th>\n",
       "      <th>ISBN</th>\n",
       "      <th>Name</th>\n",
       "      <th>Publisher</th>\n",
       "      <th>Stock</th>\n",
       "      <th>Tag</th>\n",
       "    </tr>\n",
       "  </thead>\n",
       "  <tbody>\n",
       "    <tr>\n",
       "      <th>0</th>\n",
       "      <td>Amy</td>\n",
       "      <td>2140729702</td>\n",
       "      <td>1932-7-9</td>\n",
       "      <td>5-78-6-59</td>\n",
       "      <td>编译原理</td>\n",
       "      <td>科学出版社</td>\n",
       "      <td>6</td>\n",
       "      <td>cs</td>\n",
       "    </tr>\n",
       "    <tr>\n",
       "      <th>1</th>\n",
       "      <td>Bob</td>\n",
       "      <td>2604127861</td>\n",
       "      <td>1958-5-26</td>\n",
       "      <td>2-40-80-26</td>\n",
       "      <td>计算方法</td>\n",
       "      <td>科学出版社</td>\n",
       "      <td>3</td>\n",
       "      <td>math</td>\n",
       "    </tr>\n",
       "    <tr>\n",
       "      <th>2</th>\n",
       "      <td>Cindy</td>\n",
       "      <td>2252230784</td>\n",
       "      <td>2006-1-29</td>\n",
       "      <td>2-98-27-88</td>\n",
       "      <td>算法基础</td>\n",
       "      <td>科学出版社</td>\n",
       "      <td>4</td>\n",
       "      <td>cs</td>\n",
       "    </tr>\n",
       "    <tr>\n",
       "      <th>3</th>\n",
       "      <td>David</td>\n",
       "      <td>3680731243</td>\n",
       "      <td>1906-13-27</td>\n",
       "      <td>9-37-80-17</td>\n",
       "      <td>随机过程</td>\n",
       "      <td>科学出版社</td>\n",
       "      <td>5</td>\n",
       "      <td>cs</td>\n",
       "    </tr>\n",
       "    <tr>\n",
       "      <th>4</th>\n",
       "      <td>Emily</td>\n",
       "      <td>3259332476</td>\n",
       "      <td>1983-12-27</td>\n",
       "      <td>9-57-55-23</td>\n",
       "      <td>计算机网络</td>\n",
       "      <td>机械工业出版社</td>\n",
       "      <td>6</td>\n",
       "      <td>cs</td>\n",
       "    </tr>\n",
       "    <tr>\n",
       "      <th>5</th>\n",
       "      <td>Frank</td>\n",
       "      <td>2195342051</td>\n",
       "      <td>2018-3-16</td>\n",
       "      <td>4-23-61-20</td>\n",
       "      <td>面向对象</td>\n",
       "      <td>人民邮电出版社</td>\n",
       "      <td>2</td>\n",
       "      <td>cs</td>\n",
       "    </tr>\n",
       "    <tr>\n",
       "      <th>6</th>\n",
       "      <td>Jack</td>\n",
       "      <td>123456789</td>\n",
       "      <td>2008-3-15</td>\n",
       "      <td>8-60-43-83</td>\n",
       "      <td>面向对象</td>\n",
       "      <td>邮电出版社</td>\n",
       "      <td>3</td>\n",
       "      <td>cs</td>\n",
       "    </tr>\n",
       "  </tbody>\n",
       "</table>\n",
       "</div>"
      ],
      "text/plain": [
       "  Author      BookID        Date        ISBN   Name Publisher  Stock   Tag\n",
       "0    Amy  2140729702    1932-7-9   5-78-6-59   编译原理     科学出版社      6    cs\n",
       "1    Bob  2604127861   1958-5-26  2-40-80-26   计算方法     科学出版社      3  math\n",
       "2  Cindy  2252230784   2006-1-29  2-98-27-88   算法基础     科学出版社      4    cs\n",
       "3  David  3680731243  1906-13-27  9-37-80-17   随机过程     科学出版社      5    cs\n",
       "4  Emily  3259332476  1983-12-27  9-57-55-23  计算机网络   机械工业出版社      6    cs\n",
       "5  Frank  2195342051   2018-3-16  4-23-61-20   面向对象   人民邮电出版社      2    cs\n",
       "6   Jack   123456789   2008-3-15  8-60-43-83   面向对象     邮电出版社      3    cs"
      ]
     },
     "execution_count": 10,
     "metadata": {},
     "output_type": "execute_result"
    }
   ],
   "source": [
    "#bookpd  = bookpd.drop(bookpd[bookpd.Name == '计算机网络'].index[0])\n",
    "bbdf = bookpd[bookpd.Tag == 'cs'][bookpd.Stock < 4]\n",
    "bbdf\n",
    "#bbdf['Stock'] -= 1\n",
    "bbdf\n",
    "#bookpd[bookpd.ISBN == bbdf['ISBN'][0]]['Stock'] -=1\n",
    "#bookpd.loc[bookpd[bookpd.ISBN == bbdf['ISBN'][0]].index[0],'Stock'] -= 1\n",
    "#bookpd.loc[bookpd[bookpd.ISBN == bbdf['ISBN'][0]].index[0],'Stock'] = 3 + bbdf['Stock'][0]\n",
    "bookpd\n"
   ]
  },
  {
   "cell_type": "code",
   "execution_count": 11,
   "metadata": {},
   "outputs": [
    {
     "data": {
      "text/html": [
       "<div>\n",
       "<style scoped>\n",
       "    .dataframe tbody tr th:only-of-type {\n",
       "        vertical-align: middle;\n",
       "    }\n",
       "\n",
       "    .dataframe tbody tr th {\n",
       "        vertical-align: top;\n",
       "    }\n",
       "\n",
       "    .dataframe thead th {\n",
       "        text-align: right;\n",
       "    }\n",
       "</style>\n",
       "<table border=\"1\" class=\"dataframe\">\n",
       "  <thead>\n",
       "    <tr style=\"text-align: right;\">\n",
       "      <th></th>\n",
       "      <th>Author</th>\n",
       "      <th>BookID</th>\n",
       "      <th>Date</th>\n",
       "      <th>ISBN</th>\n",
       "      <th>Name</th>\n",
       "      <th>Publisher</th>\n",
       "      <th>Stock</th>\n",
       "      <th>Tag</th>\n",
       "    </tr>\n",
       "  </thead>\n",
       "  <tbody>\n",
       "    <tr>\n",
       "      <th>0</th>\n",
       "      <td>Amy</td>\n",
       "      <td>2140729702</td>\n",
       "      <td>1932-7-9</td>\n",
       "      <td>5-78-6-59</td>\n",
       "      <td>编译原理</td>\n",
       "      <td>科学出版社</td>\n",
       "      <td>6</td>\n",
       "      <td>cs</td>\n",
       "    </tr>\n",
       "    <tr>\n",
       "      <th>1</th>\n",
       "      <td>Bob</td>\n",
       "      <td>2604127861</td>\n",
       "      <td>1958-5-26</td>\n",
       "      <td>2-40-80-26</td>\n",
       "      <td>计算方法</td>\n",
       "      <td>科学出版社</td>\n",
       "      <td>3</td>\n",
       "      <td>math</td>\n",
       "    </tr>\n",
       "    <tr>\n",
       "      <th>2</th>\n",
       "      <td>Cindy</td>\n",
       "      <td>2252230784</td>\n",
       "      <td>2006-1-29</td>\n",
       "      <td>2-98-27-88</td>\n",
       "      <td>算法基础</td>\n",
       "      <td>科学出版社</td>\n",
       "      <td>4</td>\n",
       "      <td>cs</td>\n",
       "    </tr>\n",
       "    <tr>\n",
       "      <th>3</th>\n",
       "      <td>David</td>\n",
       "      <td>3680731243</td>\n",
       "      <td>1906-13-27</td>\n",
       "      <td>9-37-80-17</td>\n",
       "      <td>随机过程</td>\n",
       "      <td>科学出版社</td>\n",
       "      <td>5</td>\n",
       "      <td>cs</td>\n",
       "    </tr>\n",
       "    <tr>\n",
       "      <th>4</th>\n",
       "      <td>Emily</td>\n",
       "      <td>3259332476</td>\n",
       "      <td>1983-12-27</td>\n",
       "      <td>9-57-55-23</td>\n",
       "      <td>计算机网络</td>\n",
       "      <td>机械工业出版社</td>\n",
       "      <td>6</td>\n",
       "      <td>cs</td>\n",
       "    </tr>\n",
       "    <tr>\n",
       "      <th>5</th>\n",
       "      <td>Frank</td>\n",
       "      <td>2195342051</td>\n",
       "      <td>2018-3-16</td>\n",
       "      <td>4-23-61-20</td>\n",
       "      <td>面向对象</td>\n",
       "      <td>人民邮电出版社</td>\n",
       "      <td>2</td>\n",
       "      <td>cs</td>\n",
       "    </tr>\n",
       "    <tr>\n",
       "      <th>6</th>\n",
       "      <td>Jack</td>\n",
       "      <td>123456789</td>\n",
       "      <td>2008-3-15</td>\n",
       "      <td>8-60-43-83</td>\n",
       "      <td>面向对象</td>\n",
       "      <td>邮电出版社</td>\n",
       "      <td>3</td>\n",
       "      <td>cs</td>\n",
       "    </tr>\n",
       "  </tbody>\n",
       "</table>\n",
       "</div>"
      ],
      "text/plain": [
       "  Author      BookID        Date        ISBN   Name Publisher  Stock   Tag\n",
       "0    Amy  2140729702    1932-7-9   5-78-6-59   编译原理     科学出版社      6    cs\n",
       "1    Bob  2604127861   1958-5-26  2-40-80-26   计算方法     科学出版社      3  math\n",
       "2  Cindy  2252230784   2006-1-29  2-98-27-88   算法基础     科学出版社      4    cs\n",
       "3  David  3680731243  1906-13-27  9-37-80-17   随机过程     科学出版社      5    cs\n",
       "4  Emily  3259332476  1983-12-27  9-57-55-23  计算机网络   机械工业出版社      6    cs\n",
       "5  Frank  2195342051   2018-3-16  4-23-61-20   面向对象   人民邮电出版社      2    cs\n",
       "6   Jack   123456789   2008-3-15  8-60-43-83   面向对象     邮电出版社      3    cs"
      ]
     },
     "execution_count": 11,
     "metadata": {},
     "output_type": "execute_result"
    }
   ],
   "source": [
    "bookpd"
   ]
  },
  {
   "cell_type": "code",
   "execution_count": 12,
   "metadata": {},
   "outputs": [],
   "source": [
    "bookpd.loc[bookpd[bookpd.Name == '面向对象'].index[0],'Date'] = '2018-3-15'"
   ]
  },
  {
   "cell_type": "code",
   "execution_count": 13,
   "metadata": {},
   "outputs": [
    {
     "data": {
      "text/html": [
       "<div>\n",
       "<style scoped>\n",
       "    .dataframe tbody tr th:only-of-type {\n",
       "        vertical-align: middle;\n",
       "    }\n",
       "\n",
       "    .dataframe tbody tr th {\n",
       "        vertical-align: top;\n",
       "    }\n",
       "\n",
       "    .dataframe thead th {\n",
       "        text-align: right;\n",
       "    }\n",
       "</style>\n",
       "<table border=\"1\" class=\"dataframe\">\n",
       "  <thead>\n",
       "    <tr style=\"text-align: right;\">\n",
       "      <th></th>\n",
       "      <th>Author</th>\n",
       "      <th>BookID</th>\n",
       "      <th>Date</th>\n",
       "      <th>ISBN</th>\n",
       "      <th>Name</th>\n",
       "      <th>Publisher</th>\n",
       "      <th>Stock</th>\n",
       "      <th>Tag</th>\n",
       "    </tr>\n",
       "  </thead>\n",
       "  <tbody>\n",
       "    <tr>\n",
       "      <th>0</th>\n",
       "      <td>Amy</td>\n",
       "      <td>2140729702</td>\n",
       "      <td>1932-7-9</td>\n",
       "      <td>5-78-6-59</td>\n",
       "      <td>编译原理</td>\n",
       "      <td>科学出版社</td>\n",
       "      <td>6</td>\n",
       "      <td>cs</td>\n",
       "    </tr>\n",
       "    <tr>\n",
       "      <th>1</th>\n",
       "      <td>Bob</td>\n",
       "      <td>2604127861</td>\n",
       "      <td>1958-5-26</td>\n",
       "      <td>2-40-80-26</td>\n",
       "      <td>计算方法</td>\n",
       "      <td>科学出版社</td>\n",
       "      <td>3</td>\n",
       "      <td>math</td>\n",
       "    </tr>\n",
       "    <tr>\n",
       "      <th>2</th>\n",
       "      <td>Cindy</td>\n",
       "      <td>2252230784</td>\n",
       "      <td>2006-1-29</td>\n",
       "      <td>2-98-27-88</td>\n",
       "      <td>算法基础</td>\n",
       "      <td>科学出版社</td>\n",
       "      <td>4</td>\n",
       "      <td>cs</td>\n",
       "    </tr>\n",
       "    <tr>\n",
       "      <th>3</th>\n",
       "      <td>David</td>\n",
       "      <td>3680731243</td>\n",
       "      <td>1906-13-27</td>\n",
       "      <td>9-37-80-17</td>\n",
       "      <td>随机过程</td>\n",
       "      <td>科学出版社</td>\n",
       "      <td>5</td>\n",
       "      <td>cs</td>\n",
       "    </tr>\n",
       "    <tr>\n",
       "      <th>4</th>\n",
       "      <td>Emily</td>\n",
       "      <td>3259332476</td>\n",
       "      <td>1983-12-27</td>\n",
       "      <td>9-57-55-23</td>\n",
       "      <td>计算机网络</td>\n",
       "      <td>机械工业出版社</td>\n",
       "      <td>6</td>\n",
       "      <td>cs</td>\n",
       "    </tr>\n",
       "    <tr>\n",
       "      <th>5</th>\n",
       "      <td>Frank</td>\n",
       "      <td>2195342051</td>\n",
       "      <td>2018-3-15</td>\n",
       "      <td>4-23-61-20</td>\n",
       "      <td>面向对象</td>\n",
       "      <td>人民邮电出版社</td>\n",
       "      <td>2</td>\n",
       "      <td>cs</td>\n",
       "    </tr>\n",
       "    <tr>\n",
       "      <th>6</th>\n",
       "      <td>Jack</td>\n",
       "      <td>123456789</td>\n",
       "      <td>2008-3-15</td>\n",
       "      <td>8-60-43-83</td>\n",
       "      <td>面向对象</td>\n",
       "      <td>邮电出版社</td>\n",
       "      <td>3</td>\n",
       "      <td>cs</td>\n",
       "    </tr>\n",
       "  </tbody>\n",
       "</table>\n",
       "</div>"
      ],
      "text/plain": [
       "  Author      BookID        Date        ISBN   Name Publisher  Stock   Tag\n",
       "0    Amy  2140729702    1932-7-9   5-78-6-59   编译原理     科学出版社      6    cs\n",
       "1    Bob  2604127861   1958-5-26  2-40-80-26   计算方法     科学出版社      3  math\n",
       "2  Cindy  2252230784   2006-1-29  2-98-27-88   算法基础     科学出版社      4    cs\n",
       "3  David  3680731243  1906-13-27  9-37-80-17   随机过程     科学出版社      5    cs\n",
       "4  Emily  3259332476  1983-12-27  9-57-55-23  计算机网络   机械工业出版社      6    cs\n",
       "5  Frank  2195342051   2018-3-15  4-23-61-20   面向对象   人民邮电出版社      2    cs\n",
       "6   Jack   123456789   2008-3-15  8-60-43-83   面向对象     邮电出版社      3    cs"
      ]
     },
     "execution_count": 13,
     "metadata": {},
     "output_type": "execute_result"
    }
   ],
   "source": [
    "bookpd"
   ]
  },
  {
   "cell_type": "code",
   "execution_count": 14,
   "metadata": {},
   "outputs": [
    {
     "name": "stdout",
     "output_type": "stream",
     "text": [
      "Author              Amy\n",
      "BookID       2140729702\n",
      "Date           1932-7-9\n",
      "ISBN          5-78-6-59\n",
      "Name               编译原理\n",
      "Publisher         科学出版社\n",
      "Stock                 6\n",
      "Tag                  cs\n",
      "Name: 0, dtype: object\n"
     ]
    }
   ],
   "source": [
    "bookpd['BookID']\n",
    "for index, row in bookpd.iterrows():\n",
    "    if(index == 0):\n",
    "        print(row)"
   ]
  },
  {
   "cell_type": "code",
   "execution_count": 15,
   "metadata": {},
   "outputs": [
    {
     "name": "stdout",
     "output_type": "stream",
     "text": [
      "['计算机网络', '编译原理']\n"
     ]
    }
   ],
   "source": [
    "import re\n",
    "his = '@@计算机网络%%@@编译原理%%'\n",
    "print(re.findall(r\"@@(.+?)%%\",his))"
   ]
  },
  {
   "cell_type": "code",
   "execution_count": 16,
   "metadata": {},
   "outputs": [
    {
     "data": {
      "text/plain": [
       "'@@编译原理%%'"
      ]
     },
     "execution_count": 16,
     "metadata": {},
     "output_type": "execute_result"
    }
   ],
   "source": [
    "name = '计算机网络'\n",
    "name = '@@'+name+'%%'\n",
    "name\n",
    "his = his.replace(name,'')\n",
    "his"
   ]
  },
  {
   "cell_type": "code",
   "execution_count": 17,
   "metadata": {},
   "outputs": [
    {
     "data": {
      "text/html": [
       "<div>\n",
       "<style scoped>\n",
       "    .dataframe tbody tr th:only-of-type {\n",
       "        vertical-align: middle;\n",
       "    }\n",
       "\n",
       "    .dataframe tbody tr th {\n",
       "        vertical-align: top;\n",
       "    }\n",
       "\n",
       "    .dataframe thead th {\n",
       "        text-align: right;\n",
       "    }\n",
       "</style>\n",
       "<table border=\"1\" class=\"dataframe\">\n",
       "  <thead>\n",
       "    <tr style=\"text-align: right;\">\n",
       "      <th></th>\n",
       "      <th>UserID</th>\n",
       "      <th>Name</th>\n",
       "      <th>Type</th>\n",
       "      <th>PhoneNumber</th>\n",
       "      <th>CurrentBorrow</th>\n",
       "      <th>History</th>\n",
       "    </tr>\n",
       "  </thead>\n",
       "  <tbody>\n",
       "    <tr>\n",
       "      <th>0</th>\n",
       "      <td>2435219977</td>\n",
       "      <td>张三</td>\n",
       "      <td>normal</td>\n",
       "      <td>18212341234</td>\n",
       "      <td>@@随机过程%%</td>\n",
       "      <td>@@随机过程%%@@计算机网络%%@@编译原理%%</td>\n",
       "    </tr>\n",
       "    <tr>\n",
       "      <th>1</th>\n",
       "      <td>2644622235</td>\n",
       "      <td>李四</td>\n",
       "      <td>vip</td>\n",
       "      <td>18312341234</td>\n",
       "      <td>None</td>\n",
       "      <td>None</td>\n",
       "    </tr>\n",
       "    <tr>\n",
       "      <th>2</th>\n",
       "      <td>2957920116</td>\n",
       "      <td>王五</td>\n",
       "      <td>normal</td>\n",
       "      <td>18412341234</td>\n",
       "      <td>None</td>\n",
       "      <td>None</td>\n",
       "    </tr>\n",
       "    <tr>\n",
       "      <th>3</th>\n",
       "      <td>3621320845</td>\n",
       "      <td>赵六</td>\n",
       "      <td>normal</td>\n",
       "      <td>18512341234</td>\n",
       "      <td>None</td>\n",
       "      <td>None</td>\n",
       "    </tr>\n",
       "    <tr>\n",
       "      <th>4</th>\n",
       "      <td>1526495812</td>\n",
       "      <td>吕七</td>\n",
       "      <td>vip</td>\n",
       "      <td>19254859625</td>\n",
       "      <td>None</td>\n",
       "      <td>None</td>\n",
       "    </tr>\n",
       "    <tr>\n",
       "      <th>5</th>\n",
       "      <td>4235162580</td>\n",
       "      <td>毕九</td>\n",
       "      <td>vip</td>\n",
       "      <td>18255525569</td>\n",
       "      <td>None</td>\n",
       "      <td>@@算法基础%%</td>\n",
       "    </tr>\n",
       "  </tbody>\n",
       "</table>\n",
       "</div>"
      ],
      "text/plain": [
       "       UserID Name    Type  PhoneNumber CurrentBorrow  \\\n",
       "0  2435219977   张三  normal  18212341234      @@随机过程%%   \n",
       "1  2644622235   李四     vip  18312341234          None   \n",
       "2  2957920116   王五  normal  18412341234          None   \n",
       "3  3621320845   赵六  normal  18512341234          None   \n",
       "4  1526495812   吕七     vip  19254859625          None   \n",
       "5  4235162580   毕九     vip  18255525569          None   \n",
       "\n",
       "                     History  \n",
       "0  @@随机过程%%@@计算机网络%%@@编译原理%%  \n",
       "1                       None  \n",
       "2                       None  \n",
       "3                       None  \n",
       "4                       None  \n",
       "5                   @@算法基础%%  "
      ]
     },
     "execution_count": 17,
     "metadata": {},
     "output_type": "execute_result"
    }
   ],
   "source": [
    "import numpy as np\n",
    "import pandas as pd\n",
    "from pandas import Series,DataFrame\n",
    "cur = pd.read_csv(\"data/user.csv\")\n",
    "cur"
   ]
  },
  {
   "cell_type": "code",
   "execution_count": 18,
   "metadata": {},
   "outputs": [
    {
     "data": {
      "text/html": [
       "<div>\n",
       "<style scoped>\n",
       "    .dataframe tbody tr th:only-of-type {\n",
       "        vertical-align: middle;\n",
       "    }\n",
       "\n",
       "    .dataframe tbody tr th {\n",
       "        vertical-align: top;\n",
       "    }\n",
       "\n",
       "    .dataframe thead th {\n",
       "        text-align: right;\n",
       "    }\n",
       "</style>\n",
       "<table border=\"1\" class=\"dataframe\">\n",
       "  <thead>\n",
       "    <tr style=\"text-align: right;\">\n",
       "      <th></th>\n",
       "      <th>UserID</th>\n",
       "      <th>Name</th>\n",
       "      <th>Type</th>\n",
       "      <th>PhoneNumber</th>\n",
       "      <th>CurrentBorrow</th>\n",
       "      <th>History</th>\n",
       "    </tr>\n",
       "  </thead>\n",
       "  <tbody>\n",
       "    <tr>\n",
       "      <th>0</th>\n",
       "      <td>2435219977</td>\n",
       "      <td>张三</td>\n",
       "      <td>normal</td>\n",
       "      <td>18212341234</td>\n",
       "      <td>@@随机过程%%</td>\n",
       "      <td>@@随机过程%%@@计算机网络%%@@编译原理%%</td>\n",
       "    </tr>\n",
       "  </tbody>\n",
       "</table>\n",
       "</div>"
      ],
      "text/plain": [
       "       UserID Name    Type  PhoneNumber CurrentBorrow  \\\n",
       "0  2435219977   张三  normal  18212341234      @@随机过程%%   \n",
       "\n",
       "                     History  \n",
       "0  @@随机过程%%@@计算机网络%%@@编译原理%%  "
      ]
     },
     "execution_count": 18,
     "metadata": {},
     "output_type": "execute_result"
    }
   ],
   "source": [
    "cur[cur.Name == \"张三\"]"
   ]
  },
  {
   "cell_type": "code",
   "execution_count": 19,
   "metadata": {},
   "outputs": [
    {
     "data": {
      "text/plain": [
       "'normal'"
      ]
     },
     "execution_count": 19,
     "metadata": {},
     "output_type": "execute_result"
    }
   ],
   "source": [
    "cur[cur.Name == \"张三\"]['Type'][0]"
   ]
  },
  {
   "cell_type": "code",
   "execution_count": 20,
   "metadata": {},
   "outputs": [
    {
     "data": {
      "text/html": [
       "<div>\n",
       "<style scoped>\n",
       "    .dataframe tbody tr th:only-of-type {\n",
       "        vertical-align: middle;\n",
       "    }\n",
       "\n",
       "    .dataframe tbody tr th {\n",
       "        vertical-align: top;\n",
       "    }\n",
       "\n",
       "    .dataframe thead th {\n",
       "        text-align: right;\n",
       "    }\n",
       "</style>\n",
       "<table border=\"1\" class=\"dataframe\">\n",
       "  <thead>\n",
       "    <tr style=\"text-align: right;\">\n",
       "      <th></th>\n",
       "      <th>UserID</th>\n",
       "      <th>Name</th>\n",
       "      <th>Type</th>\n",
       "      <th>PhoneNumber</th>\n",
       "      <th>CurrentBorrow</th>\n",
       "      <th>History</th>\n",
       "    </tr>\n",
       "  </thead>\n",
       "  <tbody>\n",
       "    <tr>\n",
       "      <th>0</th>\n",
       "      <td>2435219977</td>\n",
       "      <td>张三</td>\n",
       "      <td>normal</td>\n",
       "      <td>18212341234</td>\n",
       "      <td>@@随机过程%%</td>\n",
       "      <td>@@随机过程%%@@计算机网络%%@@编译原理%%</td>\n",
       "    </tr>\n",
       "  </tbody>\n",
       "</table>\n",
       "</div>"
      ],
      "text/plain": [
       "       UserID Name    Type  PhoneNumber CurrentBorrow  \\\n",
       "0  2435219977   张三  normal  18212341234      @@随机过程%%   \n",
       "\n",
       "                     History  \n",
       "0  @@随机过程%%@@计算机网络%%@@编译原理%%  "
      ]
     },
     "execution_count": 20,
     "metadata": {},
     "output_type": "execute_result"
    }
   ],
   "source": [
    "curr = cur[cur.Name == \"张三\"]\n",
    "curr"
   ]
  },
  {
   "cell_type": "code",
   "execution_count": 21,
   "metadata": {},
   "outputs": [
    {
     "data": {
      "text/plain": [
       "'张三'"
      ]
     },
     "execution_count": 21,
     "metadata": {},
     "output_type": "execute_result"
    }
   ],
   "source": [
    "curr['Name'][0]"
   ]
  },
  {
   "cell_type": "code",
   "execution_count": 22,
   "metadata": {},
   "outputs": [
    {
     "name": "stderr",
     "output_type": "stream",
     "text": [
      "H:\\anaconda\\lib\\site-packages\\ipykernel_launcher.py:1: SettingWithCopyWarning: \n",
      "A value is trying to be set on a copy of a slice from a DataFrame\n",
      "\n",
      "See the caveats in the documentation: https://pandas.pydata.org/pandas-docs/stable/user_guide/indexing.html#returning-a-view-versus-a-copy\n",
      "  \"\"\"Entry point for launching an IPython kernel.\n",
      "H:\\anaconda\\lib\\site-packages\\IPython\\core\\interactiveshell.py:3417: SettingWithCopyWarning: \n",
      "A value is trying to be set on a copy of a slice from a DataFrame\n",
      "\n",
      "See the caveats in the documentation: https://pandas.pydata.org/pandas-docs/stable/user_guide/indexing.html#returning-a-view-versus-a-copy\n",
      "  exec(code_obj, self.user_global_ns, self.user_ns)\n"
     ]
    },
    {
     "data": {
      "text/html": [
       "<div>\n",
       "<style scoped>\n",
       "    .dataframe tbody tr th:only-of-type {\n",
       "        vertical-align: middle;\n",
       "    }\n",
       "\n",
       "    .dataframe tbody tr th {\n",
       "        vertical-align: top;\n",
       "    }\n",
       "\n",
       "    .dataframe thead th {\n",
       "        text-align: right;\n",
       "    }\n",
       "</style>\n",
       "<table border=\"1\" class=\"dataframe\">\n",
       "  <thead>\n",
       "    <tr style=\"text-align: right;\">\n",
       "      <th></th>\n",
       "      <th>UserID</th>\n",
       "      <th>Name</th>\n",
       "      <th>Type</th>\n",
       "      <th>PhoneNumber</th>\n",
       "      <th>CurrentBorrow</th>\n",
       "      <th>History</th>\n",
       "    </tr>\n",
       "  </thead>\n",
       "  <tbody>\n",
       "    <tr>\n",
       "      <th>0</th>\n",
       "      <td>2435219977</td>\n",
       "      <td>张三</td>\n",
       "      <td>normal</td>\n",
       "      <td>18212341234</td>\n",
       "      <td>@@随机过程%%@@面向对象%%</td>\n",
       "      <td>@@随机过程%%@@计算机网络%%@@编译原理%%</td>\n",
       "    </tr>\n",
       "  </tbody>\n",
       "</table>\n",
       "</div>"
      ],
      "text/plain": [
       "       UserID Name    Type  PhoneNumber     CurrentBorrow  \\\n",
       "0  2435219977   张三  normal  18212341234  @@随机过程%%@@面向对象%%   \n",
       "\n",
       "                     History  \n",
       "0  @@随机过程%%@@计算机网络%%@@编译原理%%  "
      ]
     },
     "execution_count": 22,
     "metadata": {},
     "output_type": "execute_result"
    }
   ],
   "source": [
    "curr['CurrentBorrow'][0] = curr['CurrentBorrow'][0] + \"@@面向对象%%\"\n",
    "curr"
   ]
  },
  {
   "cell_type": "code",
   "execution_count": 23,
   "metadata": {},
   "outputs": [
    {
     "name": "stderr",
     "output_type": "stream",
     "text": [
      "H:\\anaconda\\lib\\site-packages\\pandas\\core\\indexing.py:1765: SettingWithCopyWarning: \n",
      "A value is trying to be set on a copy of a slice from a DataFrame.\n",
      "Try using .loc[row_indexer,col_indexer] = value instead\n",
      "\n",
      "See the caveats in the documentation: https://pandas.pydata.org/pandas-docs/stable/user_guide/indexing.html#returning-a-view-versus-a-copy\n",
      "  isetter(loc, value)\n"
     ]
    },
    {
     "data": {
      "text/html": [
       "<div>\n",
       "<style scoped>\n",
       "    .dataframe tbody tr th:only-of-type {\n",
       "        vertical-align: middle;\n",
       "    }\n",
       "\n",
       "    .dataframe tbody tr th {\n",
       "        vertical-align: top;\n",
       "    }\n",
       "\n",
       "    .dataframe thead th {\n",
       "        text-align: right;\n",
       "    }\n",
       "</style>\n",
       "<table border=\"1\" class=\"dataframe\">\n",
       "  <thead>\n",
       "    <tr style=\"text-align: right;\">\n",
       "      <th></th>\n",
       "      <th>UserID</th>\n",
       "      <th>Name</th>\n",
       "      <th>Type</th>\n",
       "      <th>PhoneNumber</th>\n",
       "      <th>CurrentBorrow</th>\n",
       "      <th>History</th>\n",
       "    </tr>\n",
       "  </thead>\n",
       "  <tbody>\n",
       "    <tr>\n",
       "      <th>0</th>\n",
       "      <td>2435219977</td>\n",
       "      <td>张三</td>\n",
       "      <td>normal</td>\n",
       "      <td>18212341234</td>\n",
       "      <td>@@随机过程%%@@面向对象%%@@计算方法%%</td>\n",
       "      <td>@@随机过程%%@@计算机网络%%@@编译原理%%</td>\n",
       "    </tr>\n",
       "  </tbody>\n",
       "</table>\n",
       "</div>"
      ],
      "text/plain": [
       "       UserID Name    Type  PhoneNumber             CurrentBorrow  \\\n",
       "0  2435219977   张三  normal  18212341234  @@随机过程%%@@面向对象%%@@计算方法%%   \n",
       "\n",
       "                     History  \n",
       "0  @@随机过程%%@@计算机网络%%@@编译原理%%  "
      ]
     },
     "execution_count": 23,
     "metadata": {},
     "output_type": "execute_result"
    }
   ],
   "source": [
    "curr.loc[0,'CurrentBorrow'] = curr.loc[0,'CurrentBorrow'] + \"@@计算方法%%\"\n",
    "curr"
   ]
  },
  {
   "cell_type": "code",
   "execution_count": 32,
   "metadata": {},
   "outputs": [
    {
     "data": {
      "text/plain": [
       "5"
      ]
     },
     "execution_count": 32,
     "metadata": {},
     "output_type": "execute_result"
    }
   ],
   "source": [
    "bookpd\n",
    "bbdf.index[0]"
   ]
  },
  {
   "cell_type": "code",
   "execution_count": 34,
   "metadata": {},
   "outputs": [
    {
     "data": {
      "text/plain": [
       "str"
      ]
     },
     "execution_count": 34,
     "metadata": {},
     "output_type": "execute_result"
    }
   ],
   "source": [
    "type(curr.loc[curr.index[0],'Type'])"
   ]
  },
  {
   "cell_type": "code",
   "execution_count": 35,
   "metadata": {},
   "outputs": [
    {
     "data": {
      "text/plain": [
       "str"
      ]
     },
     "execution_count": 35,
     "metadata": {},
     "output_type": "execute_result"
    }
   ],
   "source": [
    "type(\"normal\")"
   ]
  },
  {
   "cell_type": "code",
   "execution_count": 36,
   "metadata": {},
   "outputs": [
    {
     "name": "stdout",
     "output_type": "stream",
     "text": [
      "hhh\n"
     ]
    }
   ],
   "source": [
    "if(curr.loc[curr.index[0],'Type']=='normal'):\n",
    "    print(\"hhh\")"
   ]
  },
  {
   "cell_type": "code",
   "execution_count": 37,
   "metadata": {},
   "outputs": [
    {
     "name": "stdout",
     "output_type": "stream",
     "text": [
      "fff\n"
     ]
    }
   ],
   "source": [
    "li = [1,2,3]\n",
    "if not 4 in li:\n",
    "    print(\"fff\")"
   ]
  },
  {
   "cell_type": "code",
   "execution_count": 43,
   "metadata": {},
   "outputs": [
    {
     "data": {
      "text/plain": [
       "'@@面向对象%%@@计算方法%%@@随机过程%%'"
      ]
     },
     "execution_count": 43,
     "metadata": {},
     "output_type": "execute_result"
    }
   ],
   "source": [
    "aaa = \"@@算法基础%%@@面向对象%%@@计算方法%%@@随机过程%%\"\n",
    "aaa = aaa.replace(\"@@\"+\"算法基础\"+\"%%\",\"\",1)\n",
    "aaa"
   ]
  },
  {
   "cell_type": "code",
   "execution_count": null,
   "metadata": {},
   "outputs": [],
   "source": []
  },
  {
   "cell_type": "code",
   "execution_count": null,
   "metadata": {},
   "outputs": [],
   "source": []
  }
 ],
 "metadata": {
  "kernelspec": {
   "display_name": "Python 3",
   "language": "python",
   "name": "python3"
  },
  "language_info": {
   "codemirror_mode": {
    "name": "ipython",
    "version": 3
   },
   "file_extension": ".py",
   "mimetype": "text/x-python",
   "name": "python",
   "nbconvert_exporter": "python",
   "pygments_lexer": "ipython3",
   "version": "3.7.3"
  },
  "toc": {
   "base_numbering": 1,
   "nav_menu": {},
   "number_sections": true,
   "sideBar": true,
   "skip_h1_title": false,
   "title_cell": "Table of Contents",
   "title_sidebar": "Contents",
   "toc_cell": false,
   "toc_position": {},
   "toc_section_display": true,
   "toc_window_display": false
  }
 },
 "nbformat": 4,
 "nbformat_minor": 4
}
